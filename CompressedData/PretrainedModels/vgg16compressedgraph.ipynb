{
 "cells": [
  {
   "cell_type": "code",
   "execution_count": 1,
   "metadata": {},
   "outputs": [
    {
     "name": "stderr",
     "output_type": "stream",
     "text": [
      "C:\\Users\\USER2\\anaconda3\\lib\\site-packages\\tensorflow\\python\\framework\\dtypes.py:516: FutureWarning: Passing (type, 1) or '1type' as a synonym of type is deprecated; in a future version of numpy, it will be understood as (type, (1,)) / '(1,)type'.\n",
      "  _np_qint8 = np.dtype([(\"qint8\", np.int8, 1)])\n",
      "C:\\Users\\USER2\\anaconda3\\lib\\site-packages\\tensorflow\\python\\framework\\dtypes.py:517: FutureWarning: Passing (type, 1) or '1type' as a synonym of type is deprecated; in a future version of numpy, it will be understood as (type, (1,)) / '(1,)type'.\n",
      "  _np_quint8 = np.dtype([(\"quint8\", np.uint8, 1)])\n",
      "C:\\Users\\USER2\\anaconda3\\lib\\site-packages\\tensorflow\\python\\framework\\dtypes.py:518: FutureWarning: Passing (type, 1) or '1type' as a synonym of type is deprecated; in a future version of numpy, it will be understood as (type, (1,)) / '(1,)type'.\n",
      "  _np_qint16 = np.dtype([(\"qint16\", np.int16, 1)])\n",
      "C:\\Users\\USER2\\anaconda3\\lib\\site-packages\\tensorflow\\python\\framework\\dtypes.py:519: FutureWarning: Passing (type, 1) or '1type' as a synonym of type is deprecated; in a future version of numpy, it will be understood as (type, (1,)) / '(1,)type'.\n",
      "  _np_quint16 = np.dtype([(\"quint16\", np.uint16, 1)])\n",
      "C:\\Users\\USER2\\anaconda3\\lib\\site-packages\\tensorflow\\python\\framework\\dtypes.py:520: FutureWarning: Passing (type, 1) or '1type' as a synonym of type is deprecated; in a future version of numpy, it will be understood as (type, (1,)) / '(1,)type'.\n",
      "  _np_qint32 = np.dtype([(\"qint32\", np.int32, 1)])\n",
      "C:\\Users\\USER2\\anaconda3\\lib\\site-packages\\tensorflow\\python\\framework\\dtypes.py:525: FutureWarning: Passing (type, 1) or '1type' as a synonym of type is deprecated; in a future version of numpy, it will be understood as (type, (1,)) / '(1,)type'.\n",
      "  np_resource = np.dtype([(\"resource\", np.ubyte, 1)])\n",
      "C:\\Users\\USER2\\anaconda3\\lib\\site-packages\\tensorboard\\compat\\tensorflow_stub\\dtypes.py:541: FutureWarning: Passing (type, 1) or '1type' as a synonym of type is deprecated; in a future version of numpy, it will be understood as (type, (1,)) / '(1,)type'.\n",
      "  _np_qint8 = np.dtype([(\"qint8\", np.int8, 1)])\n",
      "C:\\Users\\USER2\\anaconda3\\lib\\site-packages\\tensorboard\\compat\\tensorflow_stub\\dtypes.py:542: FutureWarning: Passing (type, 1) or '1type' as a synonym of type is deprecated; in a future version of numpy, it will be understood as (type, (1,)) / '(1,)type'.\n",
      "  _np_quint8 = np.dtype([(\"quint8\", np.uint8, 1)])\n",
      "C:\\Users\\USER2\\anaconda3\\lib\\site-packages\\tensorboard\\compat\\tensorflow_stub\\dtypes.py:543: FutureWarning: Passing (type, 1) or '1type' as a synonym of type is deprecated; in a future version of numpy, it will be understood as (type, (1,)) / '(1,)type'.\n",
      "  _np_qint16 = np.dtype([(\"qint16\", np.int16, 1)])\n",
      "C:\\Users\\USER2\\anaconda3\\lib\\site-packages\\tensorboard\\compat\\tensorflow_stub\\dtypes.py:544: FutureWarning: Passing (type, 1) or '1type' as a synonym of type is deprecated; in a future version of numpy, it will be understood as (type, (1,)) / '(1,)type'.\n",
      "  _np_quint16 = np.dtype([(\"quint16\", np.uint16, 1)])\n",
      "C:\\Users\\USER2\\anaconda3\\lib\\site-packages\\tensorboard\\compat\\tensorflow_stub\\dtypes.py:545: FutureWarning: Passing (type, 1) or '1type' as a synonym of type is deprecated; in a future version of numpy, it will be understood as (type, (1,)) / '(1,)type'.\n",
      "  _np_qint32 = np.dtype([(\"qint32\", np.int32, 1)])\n",
      "C:\\Users\\USER2\\anaconda3\\lib\\site-packages\\tensorboard\\compat\\tensorflow_stub\\dtypes.py:550: FutureWarning: Passing (type, 1) or '1type' as a synonym of type is deprecated; in a future version of numpy, it will be understood as (type, (1,)) / '(1,)type'.\n",
      "  np_resource = np.dtype([(\"resource\", np.ubyte, 1)])\n"
     ]
    }
   ],
   "source": [
    "#Importing libraries\n",
    "import matplotlib.pyplot as plt\n",
    "from tensorflow.keras.optimizers import Adam, RMSprop\n",
    "import tensorflow as tf\n",
    "from tensorflow.keras.layers import Flatten, Dense, Dropout, Conv2D\n",
    "from tensorflow.keras import Model\n",
    "import PIL\n",
    "from tensorflow.keras.applications.vgg16 import VGG16\n",
    "from tensorflow.keras.preprocessing.image import ImageDataGenerator #allows us to augment and process data fed into a CNN\n",
    "from tensorflow.keras.losses import categorical_crossentropy\n",
    "from sklearn.preprocessing import OneHotEncoder\n",
    "from sklearn.model_selection import train_test_split\n",
    "import os,cv2,random\n",
    "import numpy as np\n",
    "import pandas as pd\n",
    "from tensorflow.keras.preprocessing.image import ImageDataGenerator #A tool that allows us to augment and process data to be fed into a CNN\n",
    "from sklearn.model_selection import KFold\n",
    "import numpy as np\n",
    "from sklearn.metrics import confusion_matrix"
   ]
  },
  {
   "cell_type": "code",
   "execution_count": 2,
   "metadata": {},
   "outputs": [
    {
     "name": "stdout",
     "output_type": "stream",
     "text": [
      "WARNING:tensorflow:From C:\\Users\\USER2\\anaconda3\\lib\\site-packages\\tensorflow\\python\\ops\\init_ops.py:1251: calling VarianceScaling.__init__ (from tensorflow.python.ops.init_ops) with dtype is deprecated and will be removed in a future version.\n",
      "Instructions for updating:\n",
      "Call initializer instance with the dtype argument instead of passing it to the constructor\n"
     ]
    }
   ],
   "source": [
    "path_inception = \"D:/amitavsir/bcd/data/vgg16_weights_tf_dim_ordering_tf_kernels_notop.h5\"\n",
    "local_weights_file = path_inception\n",
    "pre_trained_model = VGG16(input_shape = (121,121,3),\n",
    "              include_top = False,\n",
    "              weights = None)\n",
    "pre_trained_model.load_weights(local_weights_file)"
   ]
  },
  {
   "cell_type": "code",
   "execution_count": 3,
   "metadata": {},
   "outputs": [
    {
     "name": "stdout",
     "output_type": "stream",
     "text": [
      "Last layer output shape :  (?, 7, 7, 512)\n"
     ]
    }
   ],
   "source": [
    "#Locking the weights and parameters of pretrained model\n",
    "for layer in pre_trained_model.layers:\n",
    "    layer.trainable = False\n",
    "\n",
    "#Getting desired layer output\n",
    "last_layer = pre_trained_model.get_layer('block5_conv2')\n",
    "last = last_layer.output\n",
    "print('Last layer output shape : ', last.shape)"
   ]
  },
  {
   "cell_type": "code",
   "execution_count": 11,
   "metadata": {},
   "outputs": [],
   "source": [
    "from tensorflow.keras.losses import categorical_crossentropy\n",
    "# Model configuration\n",
    "batch_size = 50\n",
    "img_size, img_num_channels = 121, 3\n",
    "loss_function = categorical_crossentropy\n",
    "no_classes = 4\n",
    "no_epochs = 20\n",
    "optimizer = Adam()\n",
    "verbosity = 1"
   ]
  },
  {
   "cell_type": "code",
   "execution_count": 25,
   "metadata": {},
   "outputs": [],
   "source": [
    "#Building own model on top of trained network\n",
    "x = Conv2D(600, (1,1), activation = 'relu')(last)\n",
    "x = Flatten()(x)\n",
    "x = Dense(1028, activation = 'relu')(x)\n",
    "x = Dropout(rate = 0.1)(x)\n",
    "x = Dense(512, activation = 'relu')(x)\n",
    "x = Dropout(rate = 0.1)(x)\n",
    "x = Dense(256, activation = 'relu')(x)\n",
    "x = Dropout(rate = 0.15)(x)\n",
    "x = Dense(4, activation = 'softmax')(x)\n",
    "\n",
    "#Compiling model\n",
    "classifier = Model(inputs = pre_trained_model.input, outputs = x, name = 'Predict')\n",
    "opt1 = Adam(learning_rate = 0.002)\n",
    "opt2 = RMSprop(learning_rate = 0.001)\n",
    "classifier.compile(optimizer = opt1 , loss = 'categorical_crossentropy', metrics = ['accuracy'])"
   ]
  },
  {
   "cell_type": "code",
   "execution_count": 26,
   "metadata": {},
   "outputs": [],
   "source": [
    "#FEEDING DATA INTO THE MODEL\n",
    "from tensorflow.keras.preprocessing.image import ImageDataGenerator #A tool that allows us to augment and process data to be fed into a CNN\n",
    "\n",
    "#class for training set\n",
    "train_data = ImageDataGenerator(rescale = 1./255, #pixel values rescaled so that it stays between 0 and 1.\n",
    "                                shear_range = 0.2, #this and the next 4 steps are used to augment our data by shearing it, flipping and zooming it to produce more examples per image.\n",
    "                                zoom_range = 0.2,  #Data augmentation allows us to prevent overfitting of data into the training set.\n",
    "                                horizontal_flip = True,\n",
    "                                vertical_flip = True,\n",
    "                                rotation_range = 40,\n",
    "                                width_shift_range = 0.2,\n",
    "                                height_shift_range = 0.2,\n",
    "                                fill_mode = 'nearest'\n",
    "                                )\n",
    "\n",
    "test_data = ImageDataGenerator(rescale =1./255)"
   ]
  },
  {
   "cell_type": "code",
   "execution_count": 27,
   "metadata": {},
   "outputs": [
    {
     "name": "stdout",
     "output_type": "stream",
     "text": [
      "Found 962 images belonging to 4 classes.\n",
      "Found 500 images belonging to 4 classes.\n"
     ]
    }
   ],
   "source": [
    "train_set = train_data.flow_from_directory('D:/amitavsir/bcd/datacompressed/train', #Image path\n",
    "                                           target_size = (121,121), #The shape which we want to input our images in our model\n",
    "                                           batch_size = 20,         #The batch size in mini batch gradient descent\n",
    "                                           class_mode = 'categorical')   \n",
    "\n",
    "\n",
    "test_set = test_data.flow_from_directory('D:/amitavsir/bcd/datacompressed/validation',\n",
    "                                         target_size = (121,121),\n",
    "                                         batch_size = 50,\n",
    "                                         class_mode = 'categorical')"
   ]
  },
  {
   "cell_type": "code",
   "execution_count": 28,
   "metadata": {},
   "outputs": [
    {
     "name": "stdout",
     "output_type": "stream",
     "text": [
      "Epoch 1/30\n",
      "32/32 [==============================] - 116s 4s/step - loss: 4.2393 - acc: 0.3264 - val_loss: 1.1446 - val_acc: 0.4320\n",
      "Epoch 2/30\n",
      "32/32 [==============================] - 127s 4s/step - loss: 1.0119 - acc: 0.5498 - val_loss: 1.0804 - val_acc: 0.5480\n",
      "Epoch 3/30\n",
      "32/32 [==============================] - 132s 4s/step - loss: 0.9514 - acc: 0.5672 - val_loss: 0.9207 - val_acc: 0.6280\n",
      "Epoch 4/30\n",
      "32/32 [==============================] - 129s 4s/step - loss: 0.8948 - acc: 0.5875 - val_loss: 0.8874 - val_acc: 0.5800\n",
      "Epoch 5/30\n",
      "32/32 [==============================] - 128s 4s/step - loss: 0.7996 - acc: 0.6640 - val_loss: 0.7935 - val_acc: 0.6160\n",
      "Epoch 6/30\n",
      "32/32 [==============================] - 84s 3s/step - loss: 0.8251 - acc: 0.6190 - val_loss: 0.8265 - val_acc: 0.6160\n",
      "Epoch 7/30\n",
      "32/32 [==============================] - 92s 3s/step - loss: 0.7708 - acc: 0.6594 - val_loss: 0.7114 - val_acc: 0.6840\n",
      "Epoch 8/30\n",
      "32/32 [==============================] - 127s 4s/step - loss: 0.8015 - acc: 0.6897 - val_loss: 0.8087 - val_acc: 0.6520\n",
      "Epoch 9/30\n",
      "32/32 [==============================] - 128s 4s/step - loss: 0.6759 - acc: 0.7444 - val_loss: 0.7907 - val_acc: 0.7040\n",
      "Epoch 10/30\n",
      "32/32 [==============================] - 115s 4s/step - loss: 0.7986 - acc: 0.6704 - val_loss: 0.9047 - val_acc: 0.5800\n",
      "Epoch 11/30\n",
      "32/32 [==============================] - 129s 4s/step - loss: 0.6891 - acc: 0.7344 - val_loss: 0.7874 - val_acc: 0.6920\n",
      "Epoch 12/30\n",
      "32/32 [==============================] - 128s 4s/step - loss: 0.7006 - acc: 0.7219 - val_loss: 0.9869 - val_acc: 0.6200\n",
      "Epoch 13/30\n",
      "32/32 [==============================] - 129s 4s/step - loss: 0.6431 - acc: 0.7363 - val_loss: 0.6380 - val_acc: 0.6840\n",
      "Epoch 14/30\n",
      "32/32 [==============================] - 130s 4s/step - loss: 0.6025 - acc: 0.7750 - val_loss: 0.6467 - val_acc: 0.7360\n",
      "Epoch 15/30\n",
      "32/32 [==============================] - 128s 4s/step - loss: 0.5878 - acc: 0.7508 - val_loss: 0.6323 - val_acc: 0.7360\n",
      "Epoch 16/30\n",
      "32/32 [==============================] - 128s 4s/step - loss: 0.6196 - acc: 0.7637 - val_loss: 0.5949 - val_acc: 0.7520\n",
      "Epoch 17/30\n",
      "32/32 [==============================] - 131s 4s/step - loss: 0.5896 - acc: 0.7594 - val_loss: 0.7371 - val_acc: 0.7040\n",
      "Epoch 18/30\n",
      "32/32 [==============================] - 130s 4s/step - loss: 0.5263 - acc: 0.8016 - val_loss: 0.6444 - val_acc: 0.7680\n",
      "Epoch 19/30\n",
      "32/32 [==============================] - 114s 4s/step - loss: 0.5178 - acc: 0.8046 - val_loss: 0.6705 - val_acc: 0.7760\n",
      "Epoch 20/30\n",
      "32/32 [==============================] - 130s 4s/step - loss: 0.5305 - acc: 0.8062 - val_loss: 0.7039 - val_acc: 0.7400\n",
      "Epoch 21/30\n",
      "32/32 [==============================] - 129s 4s/step - loss: 0.5568 - acc: 0.7894 - val_loss: 0.7517 - val_acc: 0.7600\n",
      "Epoch 22/30\n",
      "32/32 [==============================] - 131s 4s/step - loss: 0.5099 - acc: 0.8094 - val_loss: 0.7267 - val_acc: 0.7720\n",
      "Epoch 23/30\n",
      "32/32 [==============================] - 128s 4s/step - loss: 0.5568 - acc: 0.7765 - val_loss: 0.6090 - val_acc: 0.7960\n",
      "Epoch 24/30\n",
      "32/32 [==============================] - 130s 4s/step - loss: 0.5609 - acc: 0.7891 - val_loss: 0.6430 - val_acc: 0.7600\n",
      "Epoch 25/30\n",
      "32/32 [==============================] - 126s 4s/step - loss: 0.5010 - acc: 0.8046 - val_loss: 0.6141 - val_acc: 0.7720\n",
      "Epoch 26/30\n",
      "32/32 [==============================] - 97s 3s/step - loss: 0.5567 - acc: 0.7859 - val_loss: 0.6518 - val_acc: 0.7440\n",
      "Epoch 27/30\n",
      "32/32 [==============================] - 100s 3s/step - loss: 0.5158 - acc: 0.8094 - val_loss: 0.8476 - val_acc: 0.7440\n",
      "Epoch 28/30\n",
      "32/32 [==============================] - 115s 4s/step - loss: 0.5388 - acc: 0.7964 - val_loss: 0.6373 - val_acc: 0.7360\n",
      "Epoch 29/30\n",
      "32/32 [==============================] - 130s 4s/step - loss: 0.5302 - acc: 0.7922 - val_loss: 0.6388 - val_acc: 0.7760\n",
      "Epoch 30/30\n",
      "32/32 [==============================] - 127s 4s/step - loss: 0.5094 - acc: 0.8215 - val_loss: 0.5797 - val_acc: 0.7840\n"
     ]
    }
   ],
   "source": [
    "#Fitting the images to the model\n",
    "history = classifier.fit_generator(train_set,\n",
    "                         steps_per_epoch = int(962/30),\n",
    "                         epochs = 30,\n",
    "                         validation_data = test_set,\n",
    "                         validation_steps = 5)"
   ]
  },
  {
   "cell_type": "code",
   "execution_count": 29,
   "metadata": {},
   "outputs": [
    {
     "data": {
      "image/png": "[encoded data removed]",
      "text/plain": [
       "<Figure size 432x288 with 1 Axes>"
      ]
     },
     "metadata": {
      "needs_background": "light"
     },
     "output_type": "display_data"
    }
   ],
   "source": [
    "#plotting the accuracy\n",
    "import matplotlib.pyplot as plt\n",
    "acc = history.history['acc']\n",
    "val_accuracy = history.history['val_acc']\n",
    "epochs = range(1, len(acc) + 1)\n",
    "plt.plot(epochs, acc, color='red', label='Training accuracy')\n",
    "plt.plot(epochs, val_accuracy, color='green', label='Validation accuracy')\n",
    "plt.title('Training accuracy')\n",
    "plt.xlabel('Epochs')\n",
    "plt.ylabel('Accuracy')\n",
    "plt.legend()\n",
    "plt.show()"
   ]
  },
  {
   "cell_type": "code",
   "execution_count": null,
   "metadata": {},
   "outputs": [],
   "source": []
  }
 ],
 "metadata": {
  "kernelspec": {
   "display_name": "Python 3",
   "language": "python",
   "name": "python3"
  },
  "language_info": {
   "codemirror_mode": {
    "name": "ipython",
    "version": 3
   },
   "file_extension": ".py",
   "mimetype": "text/x-python",
   "name": "python",
   "nbconvert_exporter": "python",
   "pygments_lexer": "ipython3",
   "version": "3.7.6"
  }
 },
 "nbformat": 4,
 "nbformat_minor": 4
}
