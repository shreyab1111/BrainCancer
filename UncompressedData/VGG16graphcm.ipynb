{
 "cells": [
  {
   "cell_type": "code",
   "execution_count": 1,
   "metadata": {},
   "outputs": [
    {
     "name": "stderr",
     "output_type": "stream",
     "text": [
      "C:\\Users\\USER2\\anaconda3\\lib\\site-packages\\tensorflow\\python\\framework\\dtypes.py:516: FutureWarning: Passing (type, 1) or '1type' as a synonym of type is deprecated; in a future version of numpy, it will be understood as (type, (1,)) / '(1,)type'.\n",
      "  _np_qint8 = np.dtype([(\"qint8\", np.int8, 1)])\n",
      "C:\\Users\\USER2\\anaconda3\\lib\\site-packages\\tensorflow\\python\\framework\\dtypes.py:517: FutureWarning: Passing (type, 1) or '1type' as a synonym of type is deprecated; in a future version of numpy, it will be understood as (type, (1,)) / '(1,)type'.\n",
      "  _np_quint8 = np.dtype([(\"quint8\", np.uint8, 1)])\n",
      "C:\\Users\\USER2\\anaconda3\\lib\\site-packages\\tensorflow\\python\\framework\\dtypes.py:518: FutureWarning: Passing (type, 1) or '1type' as a synonym of type is deprecated; in a future version of numpy, it will be understood as (type, (1,)) / '(1,)type'.\n",
      "  _np_qint16 = np.dtype([(\"qint16\", np.int16, 1)])\n",
      "C:\\Users\\USER2\\anaconda3\\lib\\site-packages\\tensorflow\\python\\framework\\dtypes.py:519: FutureWarning: Passing (type, 1) or '1type' as a synonym of type is deprecated; in a future version of numpy, it will be understood as (type, (1,)) / '(1,)type'.\n",
      "  _np_quint16 = np.dtype([(\"quint16\", np.uint16, 1)])\n",
      "C:\\Users\\USER2\\anaconda3\\lib\\site-packages\\tensorflow\\python\\framework\\dtypes.py:520: FutureWarning: Passing (type, 1) or '1type' as a synonym of type is deprecated; in a future version of numpy, it will be understood as (type, (1,)) / '(1,)type'.\n",
      "  _np_qint32 = np.dtype([(\"qint32\", np.int32, 1)])\n",
      "C:\\Users\\USER2\\anaconda3\\lib\\site-packages\\tensorflow\\python\\framework\\dtypes.py:525: FutureWarning: Passing (type, 1) or '1type' as a synonym of type is deprecated; in a future version of numpy, it will be understood as (type, (1,)) / '(1,)type'.\n",
      "  np_resource = np.dtype([(\"resource\", np.ubyte, 1)])\n",
      "C:\\Users\\USER2\\anaconda3\\lib\\site-packages\\tensorboard\\compat\\tensorflow_stub\\dtypes.py:541: FutureWarning: Passing (type, 1) or '1type' as a synonym of type is deprecated; in a future version of numpy, it will be understood as (type, (1,)) / '(1,)type'.\n",
      "  _np_qint8 = np.dtype([(\"qint8\", np.int8, 1)])\n",
      "C:\\Users\\USER2\\anaconda3\\lib\\site-packages\\tensorboard\\compat\\tensorflow_stub\\dtypes.py:542: FutureWarning: Passing (type, 1) or '1type' as a synonym of type is deprecated; in a future version of numpy, it will be understood as (type, (1,)) / '(1,)type'.\n",
      "  _np_quint8 = np.dtype([(\"quint8\", np.uint8, 1)])\n",
      "C:\\Users\\USER2\\anaconda3\\lib\\site-packages\\tensorboard\\compat\\tensorflow_stub\\dtypes.py:543: FutureWarning: Passing (type, 1) or '1type' as a synonym of type is deprecated; in a future version of numpy, it will be understood as (type, (1,)) / '(1,)type'.\n",
      "  _np_qint16 = np.dtype([(\"qint16\", np.int16, 1)])\n",
      "C:\\Users\\USER2\\anaconda3\\lib\\site-packages\\tensorboard\\compat\\tensorflow_stub\\dtypes.py:544: FutureWarning: Passing (type, 1) or '1type' as a synonym of type is deprecated; in a future version of numpy, it will be understood as (type, (1,)) / '(1,)type'.\n",
      "  _np_quint16 = np.dtype([(\"quint16\", np.uint16, 1)])\n",
      "C:\\Users\\USER2\\anaconda3\\lib\\site-packages\\tensorboard\\compat\\tensorflow_stub\\dtypes.py:545: FutureWarning: Passing (type, 1) or '1type' as a synonym of type is deprecated; in a future version of numpy, it will be understood as (type, (1,)) / '(1,)type'.\n",
      "  _np_qint32 = np.dtype([(\"qint32\", np.int32, 1)])\n",
      "C:\\Users\\USER2\\anaconda3\\lib\\site-packages\\tensorboard\\compat\\tensorflow_stub\\dtypes.py:550: FutureWarning: Passing (type, 1) or '1type' as a synonym of type is deprecated; in a future version of numpy, it will be understood as (type, (1,)) / '(1,)type'.\n",
      "  np_resource = np.dtype([(\"resource\", np.ubyte, 1)])\n"
     ]
    }
   ],
   "source": [
    "#MAKING THE BRAIN TUMOR MODEL WITH VGG16 PRETRAINED MODEL\n",
    "\n",
    "#Importing libraries\n",
    "import matplotlib.pyplot as plt\n",
    "from tensorflow.keras.optimizers import Adam, RMSprop\n",
    "import tensorflow as tf\n",
    "from tensorflow.keras.layers import Flatten, Dense, Dropout, Conv2D\n",
    "from tensorflow.keras import Model\n",
    "import PIL\n",
    "from tensorflow.keras.applications.vgg16 import VGG16\n",
    "from tensorflow.keras.preprocessing.image import ImageDataGenerator #allows us to augment and process data fed into a CNN\n",
    "from tensorflow.keras.losses import categorical_crossentropy\n",
    "from sklearn.preprocessing import OneHotEncoder\n",
    "from sklearn.model_selection import train_test_split\n",
    "import os,cv2,random\n",
    "import numpy as np\n",
    "import pandas as pd\n",
    "from tensorflow.keras.preprocessing.image import ImageDataGenerator #A tool that allows us to augment and process data to be fed into a CNN\n",
    "from sklearn.model_selection import KFold\n",
    "import numpy as np\n",
    "from sklearn.metrics import confusion_matrix"
   ]
  },
  {
   "cell_type": "code",
   "execution_count": 2,
   "metadata": {},
   "outputs": [
    {
     "name": "stdout",
     "output_type": "stream",
     "text": [
      "WARNING:tensorflow:From C:\\Users\\USER2\\anaconda3\\lib\\site-packages\\tensorflow\\python\\ops\\init_ops.py:1251: calling VarianceScaling.__init__ (from tensorflow.python.ops.init_ops) with dtype is deprecated and will be removed in a future version.\n",
      "Instructions for updating:\n",
      "Call initializer instance with the dtype argument instead of passing it to the constructor\n"
     ]
    }
   ],
   "source": [
    "path_inception = \"D:/amitavsir/bcd/data/vgg16_weights_tf_dim_ordering_tf_kernels_notop.h5\"\n",
    "local_weights_file = path_inception\n",
    "pre_trained_model = VGG16(input_shape = (240,240,3),\n",
    "              include_top = False,\n",
    "              weights = None)\n",
    "pre_trained_model.load_weights(local_weights_file)"
   ]
  },
  {
   "cell_type": "code",
   "execution_count": 3,
   "metadata": {},
   "outputs": [
    {
     "name": "stdout",
     "output_type": "stream",
     "text": [
      "Last layer output shape :  (?, 15, 15, 512)\n"
     ]
    }
   ],
   "source": [
    "#Locking the weights and parameters of pretrained model\n",
    "for layer in pre_trained_model.layers:\n",
    "    layer.trainable = False\n",
    "\n",
    "#Getting desired layer output\n",
    "last_layer = pre_trained_model.get_layer('block5_conv2')\n",
    "last = last_layer.output\n",
    "print('Last layer output shape : ', last.shape)"
   ]
  },
  {
   "cell_type": "code",
   "execution_count": 4,
   "metadata": {},
   "outputs": [],
   "source": [
    "from tensorflow.keras.losses import categorical_crossentropy\n",
    "# Model configuration\n",
    "batch_size = 50\n",
    "img_size, img_num_channels = 240, 3\n",
    "loss_function = categorical_crossentropy\n",
    "no_classes = 4\n",
    "no_epochs = 30\n",
    "optimizer = Adam()\n",
    "verbosity = 1"
   ]
  },
  {
   "cell_type": "code",
   "execution_count": 5,
   "metadata": {},
   "outputs": [],
   "source": [
    "#Building own model on top of trained network\n",
    "x = Conv2D(500, (1,1), activation = 'relu')(last)\n",
    "x = Flatten()(x)\n",
    "x = Dense(1028, activation = 'relu')(x)\n",
    "x = Dropout(rate = 0.15)(x)\n",
    "x = Dense(512, activation = 'relu')(x)\n",
    "x = Dropout(rate = 0.2)(x)\n",
    "x = Dense(4, activation = 'softmax')(x)\n",
    "\n",
    "#Compiling model\n",
    "classifier = Model(inputs = pre_trained_model.input, outputs = x, name = 'Predict')\n",
    "opt1 = Adam(learning_rate = 0.0015)\n",
    "opt2 = RMSprop(learning_rate = 0.001)\n",
    "classifier.compile(optimizer = opt1 , loss = 'categorical_crossentropy', metrics = ['accuracy'])"
   ]
  },
  {
   "cell_type": "code",
   "execution_count": 6,
   "metadata": {},
   "outputs": [],
   "source": [
    "#FEEDING DATA INTO THE MODEL\n",
    "from tensorflow.keras.preprocessing.image import ImageDataGenerator #A tool that allows us to augment and process data to be fed into a CNN\n",
    "\n",
    "#class for training set\n",
    "train_data = ImageDataGenerator(rescale = 1./255, #pixel values rescaled so that it stays between 0 and 1.\n",
    "                                shear_range = 0.2, #this and the next 4 steps are used to augment our data by shearing it, flipping and zooming it to produce more examples per image.\n",
    "                                zoom_range = 0.2,  #Data augmentation allows us to prevent overfitting of data into the training set.\n",
    "                                horizontal_flip = True,\n",
    "                                vertical_flip = True,\n",
    "                                rotation_range = 40,\n",
    "                                width_shift_range = 0.2,\n",
    "                                height_shift_range = 0.2,\n",
    "                                fill_mode = 'nearest'\n",
    "                                )\n",
    "\n",
    "test_data = ImageDataGenerator(rescale =1./255)"
   ]
  },
  {
   "cell_type": "code",
   "execution_count": 7,
   "metadata": {},
   "outputs": [
    {
     "name": "stdout",
     "output_type": "stream",
     "text": [
      "Found 962 images belonging to 4 classes.\n",
      "Found 500 images belonging to 4 classes.\n"
     ]
    }
   ],
   "source": [
    "train_set = train_data.flow_from_directory('D:/amitavsir/bcd/data/trainingImages', #Image path\n",
    "                                           target_size = (240,240), #The shape which we want to input our images in our model\n",
    "                                           batch_size = 20,         #The batch size in mini batch gradient descent\n",
    "                                           class_mode = 'categorical')   \n",
    "\n",
    "\n",
    "test_set = test_data.flow_from_directory('D:/amitavsir/bcd/data/validationImages',\n",
    "                                         target_size = (240,240),\n",
    "                                         batch_size = 50,\n",
    "                                         class_mode = 'categorical')"
   ]
  },
  {
   "cell_type": "code",
   "execution_count": 8,
   "metadata": {},
   "outputs": [
    {
     "name": "stdout",
     "output_type": "stream",
     "text": [
      "Epoch 1/30\n",
      "32/32 [==============================] - 207s 6s/step - loss: 11.3239 - acc: 0.2878 - val_loss: 1.3368 - val_acc: 0.2520\n",
      "Epoch 2/30\n",
      "32/32 [==============================] - 267s 8s/step - loss: 1.1832 - acc: 0.4187 - val_loss: 1.1299 - val_acc: 0.4320\n",
      "Epoch 3/30\n",
      "32/32 [==============================] - 214s 7s/step - loss: 0.9378 - acc: 0.6206 - val_loss: 0.7522 - val_acc: 0.7080\n",
      "Epoch 4/30\n",
      "32/32 [==============================] - 214s 7s/step - loss: 0.7058 - acc: 0.6672 - val_loss: 0.7707 - val_acc: 0.7040\n",
      "Epoch 5/30\n",
      "32/32 [==============================] - 235s 7s/step - loss: 0.6261 - acc: 0.7363 - val_loss: 0.6648 - val_acc: 0.7280\n",
      "Epoch 6/30\n",
      "32/32 [==============================] - 243s 8s/step - loss: 0.6769 - acc: 0.7395 - val_loss: 0.6393 - val_acc: 0.7760\n",
      "Epoch 7/30\n",
      "32/32 [==============================] - 227s 7s/step - loss: 0.5263 - acc: 0.8016 - val_loss: 0.6658 - val_acc: 0.7240\n",
      "Epoch 8/30\n",
      "32/32 [==============================] - 214s 7s/step - loss: 0.4674 - acc: 0.8183 - val_loss: 0.5187 - val_acc: 0.8000\n",
      "Epoch 9/30\n",
      "32/32 [==============================] - 208s 6s/step - loss: 0.3308 - acc: 0.8875 - val_loss: 0.5555 - val_acc: 0.7960\n",
      "Epoch 10/30\n",
      "32/32 [==============================] - 211s 7s/step - loss: 0.3519 - acc: 0.8746 - val_loss: 0.5073 - val_acc: 0.8040\n",
      "Epoch 11/30\n",
      "32/32 [==============================] - 223s 7s/step - loss: 0.3383 - acc: 0.8859 - val_loss: 0.3801 - val_acc: 0.8680\n",
      "Epoch 12/30\n",
      "32/32 [==============================] - 223s 7s/step - loss: 0.2745 - acc: 0.9068 - val_loss: 0.4101 - val_acc: 0.8640\n",
      "Epoch 13/30\n",
      "32/32 [==============================] - 220s 7s/step - loss: 0.3141 - acc: 0.8953 - val_loss: 0.4694 - val_acc: 0.7960\n",
      "Epoch 14/30\n",
      "32/32 [==============================] - 250s 8s/step - loss: 0.2373 - acc: 0.9180 - val_loss: 0.4933 - val_acc: 0.7880\n",
      "Epoch 15/30\n",
      "32/32 [==============================] - 230s 7s/step - loss: 0.2517 - acc: 0.8971 - val_loss: 0.3837 - val_acc: 0.8560\n",
      "Epoch 16/30\n",
      "32/32 [==============================] - 225s 7s/step - loss: 0.2593 - acc: 0.9109 - val_loss: 0.3837 - val_acc: 0.8520\n",
      "Epoch 17/30\n",
      "32/32 [==============================] - 224s 7s/step - loss: 0.3258 - acc: 0.8971 - val_loss: 0.3640 - val_acc: 0.8600\n",
      "Epoch 18/30\n",
      "32/32 [==============================] - 330s 10s/step - loss: 0.2704 - acc: 0.9094 - val_loss: 0.3564 - val_acc: 0.8920\n",
      "Epoch 19/30\n",
      "32/32 [==============================] - 228s 7s/step - loss: 0.2386 - acc: 0.9272 - val_loss: 0.3223 - val_acc: 0.9000\n",
      "Epoch 20/30\n",
      "32/32 [==============================] - 217s 7s/step - loss: 0.2289 - acc: 0.9156 - val_loss: 0.2983 - val_acc: 0.9000\n",
      "Epoch 21/30\n",
      "32/32 [==============================] - 206s 6s/step - loss: 0.3070 - acc: 0.8875 - val_loss: 0.3256 - val_acc: 0.8800\n",
      "Epoch 22/30\n",
      "32/32 [==============================] - 207s 6s/step - loss: 0.2222 - acc: 0.9219 - val_loss: 0.4001 - val_acc: 0.8600\n",
      "Epoch 23/30\n",
      "32/32 [==============================] - 204s 6s/step - loss: 0.1823 - acc: 0.9325 - val_loss: 0.3484 - val_acc: 0.8800\n",
      "Epoch 24/30\n",
      "32/32 [==============================] - 203s 6s/step - loss: 0.1963 - acc: 0.9373 - val_loss: 0.3192 - val_acc: 0.9080\n",
      "Epoch 25/30\n",
      "32/32 [==============================] - 207s 6s/step - loss: 0.1913 - acc: 0.9422 - val_loss: 0.4825 - val_acc: 0.8560\n",
      "Epoch 26/30\n",
      "32/32 [==============================] - 202s 6s/step - loss: 0.2436 - acc: 0.9164 - val_loss: 0.3539 - val_acc: 0.8680\n",
      "Epoch 27/30\n",
      "32/32 [==============================] - 205s 6s/step - loss: 0.1877 - acc: 0.9277 - val_loss: 0.5526 - val_acc: 0.8400\n",
      "Epoch 28/30\n",
      "32/32 [==============================] - 207s 6s/step - loss: 0.2384 - acc: 0.9109 - val_loss: 0.3824 - val_acc: 0.8600\n",
      "Epoch 29/30\n",
      "32/32 [==============================] - 204s 6s/step - loss: 0.1668 - acc: 0.9405 - val_loss: 0.3845 - val_acc: 0.8840\n",
      "Epoch 30/30\n",
      "32/32 [==============================] - 209s 7s/step - loss: 0.2135 - acc: 0.9281 - val_loss: 0.4035 - val_acc: 0.8600\n"
     ]
    }
   ],
   "source": [
    "#Fitting the images to the model\n",
    "history = classifier.fit_generator(train_set,\n",
    "                         steps_per_epoch = int(962/30),\n",
    "                         epochs = 30,\n",
    "                         validation_data = test_set,\n",
    "                         validation_steps = 5)"
   ]
  },
  {
   "cell_type": "code",
   "execution_count": 9,
   "metadata": {},
   "outputs": [
    {
     "data": {
      "image/png": "[encoded data removed]",
      "text/plain": [
       "<Figure size 432x288 with 1 Axes>"
      ]
     },
     "metadata": {
      "needs_background": "light"
     },
     "output_type": "display_data"
    }
   ],
   "source": [
    "#plotting the accuracy\n",
    "import matplotlib.pyplot as plt\n",
    "acc = history.history['acc']\n",
    "val_accuracy = history.history['val_acc']\n",
    "epochs = range(1, len(acc) + 1)\n",
    "plt.plot(epochs, acc, color='red', label='Training accuracy')\n",
    "plt.plot(epochs, val_accuracy, color='green', label='Validation accuracy')\n",
    "plt.title('Training accuracy')\n",
    "plt.xlabel('Epochs')\n",
    "plt.ylabel('Accuracy')\n",
    "plt.legend()\n",
    "plt.show()"
   ]
  },
  {
   "cell_type": "code",
   "execution_count": 15,
   "metadata": {},
   "outputs": [
    {
     "name": "stdout",
     "output_type": "stream",
     "text": [
      "Dimensions of images: (240, 240)\n",
      "Number of images in training set : 769\n",
      "Number of images in testing set : 193\n"
     ]
    }
   ],
   "source": [
    "data_path='D:/amitavsir/bcd/data/trainingImages'\n",
    "list_folder=os.listdir(path = data_path)\n",
    "data=[]\n",
    "im_size=240    \n",
    "for i in list_folder:\n",
    "    new_path=os.path.join(data_path,i) \n",
    "    pic_list=os.listdir(new_path)                                               \n",
    "    for img in pic_list:\n",
    "        pic=os.path.join(new_path,img)   \n",
    "        arr=cv2.imread(pic)    \n",
    "        data.append([arr,list_folder.index(i)])    \n",
    "        \n",
    "random.shuffle(data)  \n",
    "x_train,y_train=[],[]\n",
    "for i,j in data:\n",
    "    x_train.append(i)\n",
    "    y_train.append(j)\n",
    "x_train=np.array(x_train).reshape(-1,im_size,im_size,3)\n",
    "y_train=np.array(y_train).reshape(-1,1)\n",
    "\n",
    "encoder = OneHotEncoder()\n",
    "y_train = encoder.fit_transform(y_train)\n",
    "x_train = x_train/255\n",
    "y_train = y_train.toarray()\n",
    "\n",
    "data_path='D:/amitavsir/bcd/data/validationImages'\n",
    "list_folder=os.listdir(path = data_path)\n",
    "data=[]\n",
    "im_size=240    \n",
    "for i in list_folder:\n",
    "    new_path=os.path.join(data_path,i) \n",
    "    pic_list=os.listdir(new_path)                                               \n",
    "    for img in pic_list:\n",
    "        pic=os.path.join(new_path,img)   \n",
    "        arr=cv2.imread(pic)    \n",
    "        data.append([arr,list_folder.index(i)])    \n",
    "        \n",
    "random.shuffle(data)  \n",
    "x_test,y_test=[],[]\n",
    "for i,j in data:\n",
    "    x_test.append(i)\n",
    "    y_test.append(j)\n",
    "x_test=np.array(x_test).reshape(-1,im_size,im_size,3)\n",
    "y_test=np.array(y_test).reshape(-1,1)\n",
    "\n",
    "encoder = OneHotEncoder()\n",
    "y_test = encoder.fit_transform(y_train)\n",
    "x_test = x_test/255\n",
    "y_test = y_test.toarray()\n",
    "\n",
    "X_train, X_test, Y_train, Y_test = train_test_split(x_train,y_train, test_size=0.20)\n",
    "\n",
    "print('Dimensions of images:',X_train.shape[1:3])\n",
    "print('Number of images in training set :',Y_train.shape[0])\n",
    "print('Number of images in testing set :',X_test.shape[0])"
   ]
  },
  {
   "cell_type": "code",
   "execution_count": 16,
   "metadata": {},
   "outputs": [],
   "source": [
    "preds = classifier.predict(X_test)\n",
    "actual = []\n",
    "predictions = []\n",
    "for i in range(len(preds)):\n",
    "    actual.append(np.argmax(Y_test[i]))\n",
    "    predictions.append(np.argmax(preds[i]))"
   ]
  },
  {
   "cell_type": "code",
   "execution_count": 17,
   "metadata": {},
   "outputs": [],
   "source": [
    "a1,b1,c1,d1,a2,b2,c2,d2,a3,b3,c3,d3,a4,b4,c4,d4 = 0,0,0,0,0,0,0,0,0,0,0,0,0,0,0,0\n",
    "for j in range(len(actual)):\n",
    "    if actual[j] == 0:\n",
    "        if predictions[j] == 0:\n",
    "            a1 += 1\n",
    "        elif predictions[j] == 1:\n",
    "            a2 += 1\n",
    "        elif predictions[j] == 2:\n",
    "            a3 += 1\n",
    "        else:\n",
    "            a4 += 1\n",
    "    elif actual[j] == 1:\n",
    "        if predictions[j] == 0:\n",
    "            b1 += 1\n",
    "        elif predictions[j] == 1:\n",
    "            b2 += 1\n",
    "        elif predictions[j] == 2:\n",
    "            b3 += 1\n",
    "        else:\n",
    "            b4 += 1\n",
    "    elif actual[j] == 2:\n",
    "        if predictions[j] == 0:\n",
    "            c1 += 1\n",
    "        elif predictions[j] == 1:\n",
    "            c2 += 1\n",
    "        elif predictions[j] == 2:\n",
    "            c3 += 1\n",
    "        else:\n",
    "            c4 += 1\n",
    "    elif actual[j] == 3:\n",
    "        if predictions[j] == 0:\n",
    "            d1 += 1\n",
    "        elif predictions[j] == 1:\n",
    "            d2 += 1\n",
    "        elif predictions[j] == 2:\n",
    "            d3 += 1\n",
    "        else:\n",
    "            d4 += 1"
   ]
  },
  {
   "cell_type": "code",
   "execution_count": 18,
   "metadata": {},
   "outputs": [],
   "source": [
    "def h_mean(x,y):\n",
    "    return (2*(x*y)/(x+y))"
   ]
  },
  {
   "cell_type": "code",
   "execution_count": 19,
   "metadata": {},
   "outputs": [
    {
     "name": "stdout",
     "output_type": "stream",
     "text": [
      "The F1 score for flair class is : 0.9473684210526316\n",
      "The F1 score for t1 class is : 0.9607843137254902\n",
      "The F1 score for t1ce class is : 0.8823529411764706\n",
      "The F1 score for t2 class is : 0.963855421686747\n",
      "\n",
      "Average F1 score is:  0.9385902744103348\n"
     ]
    }
   ],
   "source": [
    "#flair\n",
    "tpf = a1\n",
    "fpf = b1+c1+d1\n",
    "fnf = a2+a3+a4\n",
    "precision_flair = tpf/(tpf + fpf)\n",
    "recall_flair = tpf/(tpf+fnf)\n",
    "try:\n",
    "    F1_flair = h_mean(precision_flair, recall_flair)\n",
    "    print('The F1 score for flair class is :', F1_flair)\n",
    "except:\n",
    "    print('Sorry division by zero')\n",
    "\n",
    "#t1\n",
    "tpt1 = b2\n",
    "fpt1 = a2+c2+d2\n",
    "fnt1 = b1+b3+b4\n",
    "precision_t1 = tpt1/(tpt1 + fpt1)\n",
    "recall_t1 = tpt1/(tpt1+fnt1)\n",
    "try:\n",
    "    F1_t1 = h_mean(precision_t1, recall_t1)\n",
    "    print('The F1 score for t1 class is :', F1_t1)\n",
    "except:\n",
    "    print('Sorry division by zero')\n",
    "\n",
    "#t1ce\n",
    "tpt1ce = c3\n",
    "fpt1ce = a3+b3+d3\n",
    "fnt1ce = c1+c2+c4\n",
    "try:\n",
    "    precision_t1ce = tpt1ce/(tpt1ce + fpt1ce)\n",
    "    recall_t1ce = tpt1ce/(tpt1ce+fnt1ce)\n",
    "    F1_t1ce = h_mean(precision_t1ce, recall_t1ce)\n",
    "    print('The F1 score for t1ce class is :', F1_t1ce)\n",
    "except:\n",
    "    print('Sorry division by zero, therefore = 0')\n",
    "      \n",
    "#t2\n",
    "tpt2 = d4\n",
    "fpt2 = a4+b4+c4\n",
    "fnt2 = d1+d2+d3\n",
    "try:\n",
    "    precision_t2 = tpt2/(tpt2 + fpt2)\n",
    "    recall_t2 = tpt2/(tpt2+fnt2)\n",
    "    F1_t2 = h_mean(precision_t2, recall_t2)\n",
    "    print('The F1 score for t2 class is :', F1_t2)\n",
    "except:\n",
    "    print('Sorry division by zero')\n",
    "    \n",
    "print('\\nAverage F1 score is: ', (F1_flair+F1_t1+F1_t1ce+F1_t2)/4)"
   ]
  },
  {
   "cell_type": "code",
   "execution_count": 20,
   "metadata": {},
   "outputs": [
    {
     "data": {
      "text/html": [
       "<div>\n",
       "<style scoped>\n",
       "    .dataframe tbody tr th:only-of-type {\n",
       "        vertical-align: middle;\n",
       "    }\n",
       "\n",
       "    .dataframe tbody tr th {\n",
       "        vertical-align: top;\n",
       "    }\n",
       "\n",
       "    .dataframe thead th {\n",
       "        text-align: right;\n",
       "    }\n",
       "</style>\n",
       "<table border=\"1\" class=\"dataframe\">\n",
       "  <thead>\n",
       "    <tr style=\"text-align: right;\">\n",
       "      <th></th>\n",
       "      <th>flair</th>\n",
       "      <th>t1</th>\n",
       "      <th>t1ce</th>\n",
       "      <th>t2</th>\n",
       "    </tr>\n",
       "  </thead>\n",
       "  <tbody>\n",
       "    <tr>\n",
       "      <th>flair</th>\n",
       "      <td>63</td>\n",
       "      <td>0</td>\n",
       "      <td>1</td>\n",
       "      <td>1</td>\n",
       "    </tr>\n",
       "    <tr>\n",
       "      <th>t1</th>\n",
       "      <td>1</td>\n",
       "      <td>49</td>\n",
       "      <td>2</td>\n",
       "      <td>1</td>\n",
       "    </tr>\n",
       "    <tr>\n",
       "      <th>t1ce</th>\n",
       "      <td>4</td>\n",
       "      <td>0</td>\n",
       "      <td>30</td>\n",
       "      <td>1</td>\n",
       "    </tr>\n",
       "    <tr>\n",
       "      <th>t2</th>\n",
       "      <td>0</td>\n",
       "      <td>0</td>\n",
       "      <td>0</td>\n",
       "      <td>40</td>\n",
       "    </tr>\n",
       "  </tbody>\n",
       "</table>\n",
       "</div>"
      ],
      "text/plain": [
       "       flair  t1  t1ce  t2\n",
       "flair     63   0     1   1\n",
       "t1         1  49     2   1\n",
       "t1ce       4   0    30   1\n",
       "t2         0   0     0  40"
      ]
     },
     "execution_count": 20,
     "metadata": {},
     "output_type": "execute_result"
    }
   ],
   "source": [
    "table = [[a1,b1,c1,d1], [a2,b2,c2,d2], [a3,b3,c3,d3], [a4,b4,c4,d4]]\n",
    "table = np.array(table)\n",
    "\n",
    "confusion_matrix = pd.DataFrame(data = table, index = ['flair', 't1', 't1ce', 't2'], columns = ['flair', 't1', 't1ce', 't2'] )\n",
    "\n",
    "confusion_matrix"
   ]
  },
  {
   "cell_type": "code",
   "execution_count": null,
   "metadata": {},
   "outputs": [],
   "source": []
  }
 ],
 "metadata": {
  "kernelspec": {
   "display_name": "Python 3",
   "language": "python",
   "name": "python3"
  },
  "language_info": {
   "codemirror_mode": {
    "name": "ipython",
    "version": 3
   },
   "file_extension": ".py",
   "mimetype": "text/x-python",
   "name": "python",
   "nbconvert_exporter": "python",
   "pygments_lexer": "ipython3",
   "version": "3.7.6"
  }
 },
 "nbformat": 4,
 "nbformat_minor": 4
}
